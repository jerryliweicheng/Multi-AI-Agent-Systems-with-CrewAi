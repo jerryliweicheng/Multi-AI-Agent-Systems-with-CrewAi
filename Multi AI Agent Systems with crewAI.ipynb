{
 "cells": [
  {
   "cell_type": "markdown",
   "metadata": {},
   "source": [
    "\n",
    "\n",
    "# In this notebook, we will be going through the foundational concepts of multi-agent systems and get an overview of the crewAI framework."
   ]
  },
  {
   "cell_type": "code",
   "execution_count": null,
   "metadata": {
    "height": 30
   },
   "outputs": [],
   "source": [
    "!pip install crewai==0.28.8 crewai_tools==0.1.6 langchain_community==0.0.29"
   ]
  },
  {
   "cell_type": "code",
   "execution_count": 1,
   "metadata": {
    "height": 64
   },
   "outputs": [],
   "source": [
    "# Warning control\n",
    "import warnings\n",
    "warnings.filterwarnings('ignore')"
   ]
  },
  {
   "cell_type": "markdown",
   "metadata": {},
   "source": [
    "- Import from the crewAI libray."
   ]
  },
  {
   "cell_type": "code",
   "execution_count": 2,
   "metadata": {
    "height": 30
   },
   "outputs": [],
   "source": [
    "from crewai import Agent, Task, Crew"
   ]
  },
  {
   "cell_type": "markdown",
   "metadata": {},
   "source": [
    "- As a LLM for our agents, we'll be using OpenAI's `gpt-3.5-turbo`.\n"
   ]
  },
  {
   "cell_type": "code",
   "execution_count": 3,
   "metadata": {
    "height": 98
   },
   "outputs": [],
   "source": [
    "import os\n",
    "from utils import get_openai_api_key\n",
    "\n",
    "openai_api_key = get_openai_api_key()\n",
    "os.environ[\"OPENAI_MODEL_NAME\"] = 'gpt-3.5-turbo'"
   ]
  },
  {
   "cell_type": "markdown",
   "metadata": {},
   "source": [
    "## Creating Agents\n",
    "\n",
    "- Define Agents, and provide them a `role`, `goal` and `backstory`.\n",
    "- It has been seen that LLMs perform better when they are role playing."
   ]
  },
  {
   "cell_type": "markdown",
   "metadata": {},
   "source": [
    "### Agent: Planner\n",
    "\n",
    "**Note**: The benefit of using _multiple strings_ :\n",
    "```Python\n",
    "varname = \"line 1 of text\"\n",
    "          \"line 2 of text\"\n",
    "```\n",
    "\n",
    "versus the _triple quote docstring_:\n",
    "```Python\n",
    "varname = \"\"\"line 1 of text\n",
    "             line 2 of text\n",
    "          \"\"\"\n",
    "```\n",
    "is that it can avoid adding those whitespaces and newline characters, making it better formatted to be passed to the LLM."
   ]
  },
  {
   "cell_type": "code",
   "execution_count": 4,
   "metadata": {
    "height": 234
   },
   "outputs": [],
   "source": [
    "planner = Agent(\n",
    "    role=\"Content Planner\",\n",
    "    goal=\"Plan engaging and factually accurate content on {topic}\",\n",
    "    backstory=\"You're working on planning a blog article \"\n",
    "              \"about the topic: {topic}.\"\n",
    "              \"You collect information that helps the \"\n",
    "              \"audience learn something \"\n",
    "              \"and make informed decisions. \"\n",
    "              \"Your work is the basis for \"\n",
    "              \"the Content Writer to write an article on this topic.\",\n",
    "    allow_delegation=False,\n",
    "\tverbose=True\n",
    ")"
   ]
  },
  {
   "cell_type": "markdown",
   "metadata": {},
   "source": [
    "### Agent: Writer"
   ]
  },
  {
   "cell_type": "code",
   "execution_count": 5,
   "metadata": {
    "height": 370
   },
   "outputs": [],
   "source": [
    "writer = Agent(\n",
    "    role=\"Content Writer\",\n",
    "    goal=\"Write insightful and factually accurate \"\n",
    "         \"opinion piece about the topic: {topic}\",\n",
    "    backstory=\"You're working on a writing \"\n",
    "              \"a new opinion piece about the topic: {topic}. \"\n",
    "              \"You base your writing on the work of \"\n",
    "              \"the Content Planner, who provides an outline \"\n",
    "              \"and relevant context about the topic. \"\n",
    "              \"You follow the main objectives and \"\n",
    "              \"direction of the outline, \"\n",
    "              \"as provide by the Content Planner. \"\n",
    "              \"You also provide objective and impartial insights \"\n",
    "              \"and back them up with information \"\n",
    "              \"provide by the Content Planner. \"\n",
    "              \"You acknowledge in your opinion piece \"\n",
    "              \"when your statements are opinions \"\n",
    "              \"as opposed to objective statements.\",\n",
    "    allow_delegation=False,\n",
    "    verbose=True\n",
    ")"
   ]
  },
  {
   "cell_type": "markdown",
   "metadata": {},
   "source": [
    "### Agent: Editor"
   ]
  },
  {
   "cell_type": "code",
   "execution_count": 6,
   "metadata": {
    "height": 268
   },
   "outputs": [],
   "source": [
    "editor = Agent(\n",
    "    role=\"Editor\",\n",
    "    goal=\"Edit a given blog post to align with \"\n",
    "         \"the writing style of the organization. \",\n",
    "    backstory=\"You are an editor who receives a blog post \"\n",
    "              \"from the Content Writer. \"\n",
    "              \"Your goal is to review the blog post \"\n",
    "              \"to ensure that it follows journalistic best practices,\"\n",
    "              \"provides balanced viewpoints \"\n",
    "              \"when providing opinions or assertions, \"\n",
    "              \"and also avoids major controversial topics \"\n",
    "              \"or opinions when possible.\",\n",
    "    allow_delegation=False,\n",
    "    verbose=True\n",
    ")"
   ]
  },
  {
   "cell_type": "markdown",
   "metadata": {},
   "source": [
    "## Creating Tasks\n",
    "\n",
    "- Define your Tasks, and provide them a `description`, `expected_output` and `agent`."
   ]
  },
  {
   "cell_type": "markdown",
   "metadata": {},
   "source": [
    "### Task: Plan"
   ]
  },
  {
   "cell_type": "code",
   "execution_count": 7,
   "metadata": {
    "height": 268
   },
   "outputs": [],
   "source": [
    "plan = Task(\n",
    "    description=(\n",
    "        \"1. Prioritize the latest trends, key players, \"\n",
    "            \"and noteworthy news on {topic}.\\n\"\n",
    "        \"2. Identify the target audience, considering \"\n",
    "            \"their interests and pain points.\\n\"\n",
    "        \"3. Develop a detailed content outline including \"\n",
    "            \"an introduction, key points, and a call to action.\\n\"\n",
    "        \"4. Include SEO keywords and relevant data or sources.\"\n",
    "    ),\n",
    "    expected_output=\"A comprehensive content plan document \"\n",
    "        \"with an outline, audience analysis, \"\n",
    "        \"SEO keywords, and resources.\",\n",
    "    agent=planner,\n",
    ")"
   ]
  },
  {
   "cell_type": "markdown",
   "metadata": {},
   "source": [
    "### Task: Write"
   ]
  },
  {
   "cell_type": "code",
   "execution_count": 8,
   "metadata": {
    "height": 319
   },
   "outputs": [],
   "source": [
    "write = Task(\n",
    "    description=(\n",
    "        \"1. Use the content plan to craft a compelling \"\n",
    "            \"blog post on {topic}.\\n\"\n",
    "        \"2. Incorporate SEO keywords naturally.\\n\"\n",
    "\t\t\"3. Sections/Subtitles are properly named \"\n",
    "            \"in an engaging manner.\\n\"\n",
    "        \"4. Ensure the post is structured with an \"\n",
    "            \"engaging introduction, insightful body, \"\n",
    "            \"and a summarizing conclusion.\\n\"\n",
    "        \"5. Proofread for grammatical errors and \"\n",
    "            \"alignment with the brand's voice.\\n\"\n",
    "    ),\n",
    "    expected_output=\"A well-written blog post \"\n",
    "        \"in markdown format, ready for publication, \"\n",
    "        \"each section should have 2 or 3 paragraphs.\",\n",
    "    agent=writer,\n",
    ")"
   ]
  },
  {
   "cell_type": "markdown",
   "metadata": {},
   "source": [
    "### Task: Edit"
   ]
  },
  {
   "cell_type": "code",
   "execution_count": 9,
   "metadata": {
    "height": 166
   },
   "outputs": [],
   "source": [
    "edit = Task(\n",
    "    description=(\"Proofread the given blog post for \"\n",
    "                 \"grammatical errors and \"\n",
    "                 \"alignment with the brand's voice.\"),\n",
    "    expected_output=\"A well-written blog post in markdown format, \"\n",
    "                    \"ready for publication, \"\n",
    "                    \"each section should have 2 or 3 paragraphs.\",\n",
    "    agent=editor\n",
    ")"
   ]
  },
  {
   "cell_type": "markdown",
   "metadata": {},
   "source": [
    "## Creating the Crew\n",
    "\n",
    "- Create a crew of Agents\n",
    "- Pass the tasks to be performed by those agents.\n",
    "    - **Note**: *For this simple example*, the tasks will be performed sequentially (i.e they are dependent on each other), so the _order_ of the task in the list _matters_.\n",
    "- `verbose=2` allows you to see all the logs of the execution. "
   ]
  },
  {
   "cell_type": "code",
   "execution_count": 10,
   "metadata": {
    "height": 98
   },
   "outputs": [],
   "source": [
    "crew = Crew(\n",
    "    agents=[planner, writer, editor],\n",
    "    tasks=[plan, write, edit],\n",
    "    verbose=2\n",
    ")"
   ]
  },
  {
   "cell_type": "markdown",
   "metadata": {},
   "source": [
    "## Running the Crew"
   ]
  },
  {
   "cell_type": "markdown",
   "metadata": {},
   "source": [
    "- Display the results of your execution as markdown in the notebook."
   ]
  },
  {
   "cell_type": "code",
   "execution_count": 13,
   "metadata": {
    "height": 47
   },
   "outputs": [
    {
     "name": "stdout",
     "output_type": "stream",
     "text": [
      "\u001b[1m\u001b[95m [DEBUG]: == Working Agent: Content Planner\u001b[00m\n",
      "\u001b[1m\u001b[95m [INFO]: == Starting Task: 1. Prioritize the latest trends, key players, and noteworthy news on Tesla stock price prediction.\n",
      "2. Identify the target audience, considering their interests and pain points.\n",
      "3. Develop a detailed content outline including an introduction, key points, and a call to action.\n",
      "4. Include SEO keywords and relevant data or sources.\u001b[00m\n",
      "\n",
      "\n",
      "\u001b[1m> Entering new CrewAgentExecutor chain...\u001b[0m\n",
      "\u001b[32;1m\u001b[1;3mI now can give a great answer\n",
      "\n",
      "Final Answer: \n",
      "\n",
      "Title: Predicting the Future: An In-depth Analysis of Tesla Stock Price\n",
      "\n",
      "Introduction:\n",
      "- Brief overview of Tesla's history and its impact on the stock market\n",
      "- Introduction to the topic of stock price prediction and the importance of making informed decisions\n",
      "\n",
      "Key Points:\n",
      "1. Latest Trends:\n",
      "- Analysis of recent trends in Tesla's stock price movement\n",
      "- Comparison with industry trends and market predictions\n",
      "- Insights from financial experts and analysts on the future outlook\n",
      "\n",
      "2. Key Players:\n",
      "- Overview of key players influencing Tesla's stock price, including Elon Musk, institutional investors, and market influencers\n",
      "- Analysis of their impact on stock price movements and market sentiment\n",
      "\n",
      "3. Noteworthy News:\n",
      "- Highlighting recent news and events affecting Tesla's stock price\n",
      "- Evaluation of the significance of news events on stock price prediction\n",
      "- Discussion on the role of media coverage and public perception in stock price fluctuations\n",
      "\n",
      "Target Audience:\n",
      "- Individual investors interested in Tesla stock and stock market predictions\n",
      "- Financial analysts and professionals seeking insights into Tesla's stock price movement\n",
      "- Stock market enthusiasts looking to learn more about stock price prediction strategies\n",
      "\n",
      "SEO Keywords:\n",
      "- Tesla stock price prediction\n",
      "- Tesla stock analysis\n",
      "- Tesla stock market trends\n",
      "- Predicting Tesla stock price\n",
      "- Tesla stock forecast\n",
      "- Elon Musk impact on Tesla stock\n",
      "\n",
      "Content Outline:\n",
      "I. Introduction\n",
      "- Overview of Tesla's history and impact on the stock market\n",
      "- Importance of stock price prediction for investors\n",
      "\n",
      "II. Latest Trends\n",
      "- Analysis of recent trends in Tesla's stock price movement\n",
      "- Comparison with industry trends and market predictions\n",
      "- Insights from financial experts and analysts\n",
      "\n",
      "III. Key Players\n",
      "- Overview of key players influencing Tesla's stock price\n",
      "- Analysis of their impact on stock price movements\n",
      "- Discussion on market influencers and their role in stock price prediction\n",
      "\n",
      "IV. Noteworthy News\n",
      "- Highlighting recent news events affecting Tesla's stock price\n",
      "- Evaluation of the significance of news events on stock price prediction\n",
      "- Role of media coverage and public perception in stock price fluctuations\n",
      "\n",
      "V. Conclusion\n",
      "- Recap of key points discussed in the article\n",
      "- Importance of making informed decisions in stock price prediction\n",
      "- Call to action for further research and analysis\n",
      "\n",
      "Resources:\n",
      "1. Bloomberg Tesla Stock Analysis\n",
      "2. CNBC Tesla Stock Forecast\n",
      "3. Forbes Elon Musk Impact on Tesla Stock\n",
      "4. Yahoo Finance Tesla Stock News\n",
      "5. Investopedia Stock Price Prediction Strategies\n",
      "\n",
      "By following this detailed content outline and incorporating relevant SEO keywords and reputable resources, the blog article on Tesla stock price prediction will provide valuable insights and analysis for the target audience.\u001b[0m\n",
      "\n",
      "\u001b[1m> Finished chain.\u001b[0m\n",
      "\u001b[1m\u001b[92m [DEBUG]: == [Content Planner] Task output: Title: Predicting the Future: An In-depth Analysis of Tesla Stock Price\n",
      "\n",
      "Introduction:\n",
      "- Brief overview of Tesla's history and its impact on the stock market\n",
      "- Introduction to the topic of stock price prediction and the importance of making informed decisions\n",
      "\n",
      "Key Points:\n",
      "1. Latest Trends:\n",
      "- Analysis of recent trends in Tesla's stock price movement\n",
      "- Comparison with industry trends and market predictions\n",
      "- Insights from financial experts and analysts on the future outlook\n",
      "\n",
      "2. Key Players:\n",
      "- Overview of key players influencing Tesla's stock price, including Elon Musk, institutional investors, and market influencers\n",
      "- Analysis of their impact on stock price movements and market sentiment\n",
      "\n",
      "3. Noteworthy News:\n",
      "- Highlighting recent news and events affecting Tesla's stock price\n",
      "- Evaluation of the significance of news events on stock price prediction\n",
      "- Discussion on the role of media coverage and public perception in stock price fluctuations\n",
      "\n",
      "Target Audience:\n",
      "- Individual investors interested in Tesla stock and stock market predictions\n",
      "- Financial analysts and professionals seeking insights into Tesla's stock price movement\n",
      "- Stock market enthusiasts looking to learn more about stock price prediction strategies\n",
      "\n",
      "SEO Keywords:\n",
      "- Tesla stock price prediction\n",
      "- Tesla stock analysis\n",
      "- Tesla stock market trends\n",
      "- Predicting Tesla stock price\n",
      "- Tesla stock forecast\n",
      "- Elon Musk impact on Tesla stock\n",
      "\n",
      "Content Outline:\n",
      "I. Introduction\n",
      "- Overview of Tesla's history and impact on the stock market\n",
      "- Importance of stock price prediction for investors\n",
      "\n",
      "II. Latest Trends\n",
      "- Analysis of recent trends in Tesla's stock price movement\n",
      "- Comparison with industry trends and market predictions\n",
      "- Insights from financial experts and analysts\n",
      "\n",
      "III. Key Players\n",
      "- Overview of key players influencing Tesla's stock price\n",
      "- Analysis of their impact on stock price movements\n",
      "- Discussion on market influencers and their role in stock price prediction\n",
      "\n",
      "IV. Noteworthy News\n",
      "- Highlighting recent news events affecting Tesla's stock price\n",
      "- Evaluation of the significance of news events on stock price prediction\n",
      "- Role of media coverage and public perception in stock price fluctuations\n",
      "\n",
      "V. Conclusion\n",
      "- Recap of key points discussed in the article\n",
      "- Importance of making informed decisions in stock price prediction\n",
      "- Call to action for further research and analysis\n",
      "\n",
      "Resources:\n",
      "1. Bloomberg Tesla Stock Analysis\n",
      "2. CNBC Tesla Stock Forecast\n",
      "3. Forbes Elon Musk Impact on Tesla Stock\n",
      "4. Yahoo Finance Tesla Stock News\n",
      "5. Investopedia Stock Price Prediction Strategies\n",
      "\n",
      "By following this detailed content outline and incorporating relevant SEO keywords and reputable resources, the blog article on Tesla stock price prediction will provide valuable insights and analysis for the target audience.\n",
      "\n",
      "\u001b[00m\n",
      "\u001b[1m\u001b[95m [DEBUG]: == Working Agent: Content Writer\u001b[00m\n",
      "\u001b[1m\u001b[95m [INFO]: == Starting Task: 1. Use the content plan to craft a compelling blog post on Tesla stock price prediction.\n",
      "2. Incorporate SEO keywords naturally.\n",
      "3. Sections/Subtitles are properly named in an engaging manner.\n",
      "4. Ensure the post is structured with an engaging introduction, insightful body, and a summarizing conclusion.\n",
      "5. Proofread for grammatical errors and alignment with the brand's voice.\n",
      "\u001b[00m\n",
      "\n",
      "\n",
      "\u001b[1m> Entering new CrewAgentExecutor chain...\u001b[0m\n",
      "\u001b[32;1m\u001b[1;3mI now can give a great answer\n",
      "\n",
      "Final Answer: \n",
      "\n",
      "# Predicting the Future: An In-depth Analysis of Tesla Stock Price\n",
      "\n",
      "## Introduction\n",
      "\n",
      "Tesla, founded by Elon Musk, has become a revolutionary force in the automotive industry and beyond, with its innovative electric vehicles and sustainable energy solutions. The company's success and impact on the stock market have garnered significant attention from investors and analysts alike. Stock price prediction plays a crucial role in guiding investment decisions and maximizing returns in the volatile market environment. In this blog post, we will delve into the world of Tesla stock price prediction, analyzing trends, key players, and noteworthy news events to provide valuable insights for individual investors, financial professionals, and stock market enthusiasts.\n",
      "\n",
      "## Latest Trends\n",
      "\n",
      "Recent trends in Tesla's stock price movement have been a topic of interest for many market participants. The company's stock has experienced significant volatility, influenced by factors such as production numbers, delivery figures, and overall market sentiment towards electric vehicle manufacturers. Financial experts and analysts have been closely monitoring these trends, comparing them with industry trends and market predictions to forecast the future outlook of Tesla's stock price. By analyzing the latest data and insights from reputable sources such as Bloomberg and CNBC, investors can gain a better understanding of the factors driving Tesla's stock price movement.\n",
      "\n",
      "## Key Players\n",
      "\n",
      "Elon Musk, as the CEO of Tesla, plays a pivotal role in influencing the company's stock price through his public statements, actions, and decisions. Institutional investors and market influencers also have a significant impact on Tesla's stock price, as their buying and selling activities can sway market sentiment and drive price movements. Understanding the dynamics of these key players and their interactions with the stock market is essential for predicting Tesla's stock price accurately. By examining the insights provided by Forbes and other financial news sources, investors can stay informed about the latest developments and make well-informed decisions regarding their Tesla stock investments.\n",
      "\n",
      "## Noteworthy News\n",
      "\n",
      "Recent news events, such as Tesla's inclusion in major stock indices, regulatory developments, and product announcements, have had a noticeable impact on the company's stock price. Evaluating the significance of these news events and their implications for stock price prediction is crucial for investors seeking to navigate the market successfully. Media coverage and public perception also play a vital role in shaping stock price fluctuations, as positive or negative news stories can influence investor sentiment and trading behavior. By staying updated on the latest news and events affecting Tesla's stock price, investors can anticipate market reactions and adjust their investment strategies accordingly.\n",
      "\n",
      "## Conclusion\n",
      "\n",
      "In conclusion, predicting Tesla's stock price requires a comprehensive analysis of the latest trends, key players, and noteworthy news events shaping the market environment. By incorporating insights from reputable sources and leveraging stock price prediction strategies, investors can make informed decisions and enhance their investment outcomes. It is essential to stay informed, conduct thorough research, and seek expert advice to navigate the complexities of the stock market successfully. As we continue to monitor Tesla's stock price movement and analyze market dynamics, let us remember the importance of making informed decisions and staying ahead of the curve in predicting the future of Tesla stock.\n",
      "\n",
      "Remember, the future is uncertain, and stock price prediction is not an exact science. However, by considering all available information and adopting a proactive approach to investment, investors can position themselves for success in the ever-evolving stock market landscape.\n",
      "\n",
      "---\n",
      "\n",
      "### Resources:\n",
      "1. [Bloomberg Tesla Stock Analysis](https://www.bloomberg.com/quote/TSLA:US)\n",
      "2. [CNBC Tesla Stock Forecast](https://www.cnbc.com/tesla/)\n",
      "3. [Forbes Elon Musk Impact on Tesla Stock](https://www.forbes.com/elon-musk-tesla-stock/)\n",
      "4. [Yahoo Finance Tesla Stock News](https://finance.yahoo.com/quote/TSLA)\n",
      "5. [Investopedia Stock Price Prediction Strategies](https://www.investopedia.com/)\u001b[0m\n",
      "\n",
      "\u001b[1m> Finished chain.\u001b[0m\n",
      "\u001b[1m\u001b[92m [DEBUG]: == [Content Writer] Task output: # Predicting the Future: An In-depth Analysis of Tesla Stock Price\n",
      "\n",
      "## Introduction\n",
      "\n",
      "Tesla, founded by Elon Musk, has become a revolutionary force in the automotive industry and beyond, with its innovative electric vehicles and sustainable energy solutions. The company's success and impact on the stock market have garnered significant attention from investors and analysts alike. Stock price prediction plays a crucial role in guiding investment decisions and maximizing returns in the volatile market environment. In this blog post, we will delve into the world of Tesla stock price prediction, analyzing trends, key players, and noteworthy news events to provide valuable insights for individual investors, financial professionals, and stock market enthusiasts.\n",
      "\n",
      "## Latest Trends\n",
      "\n",
      "Recent trends in Tesla's stock price movement have been a topic of interest for many market participants. The company's stock has experienced significant volatility, influenced by factors such as production numbers, delivery figures, and overall market sentiment towards electric vehicle manufacturers. Financial experts and analysts have been closely monitoring these trends, comparing them with industry trends and market predictions to forecast the future outlook of Tesla's stock price. By analyzing the latest data and insights from reputable sources such as Bloomberg and CNBC, investors can gain a better understanding of the factors driving Tesla's stock price movement.\n",
      "\n",
      "## Key Players\n",
      "\n",
      "Elon Musk, as the CEO of Tesla, plays a pivotal role in influencing the company's stock price through his public statements, actions, and decisions. Institutional investors and market influencers also have a significant impact on Tesla's stock price, as their buying and selling activities can sway market sentiment and drive price movements. Understanding the dynamics of these key players and their interactions with the stock market is essential for predicting Tesla's stock price accurately. By examining the insights provided by Forbes and other financial news sources, investors can stay informed about the latest developments and make well-informed decisions regarding their Tesla stock investments.\n",
      "\n",
      "## Noteworthy News\n",
      "\n",
      "Recent news events, such as Tesla's inclusion in major stock indices, regulatory developments, and product announcements, have had a noticeable impact on the company's stock price. Evaluating the significance of these news events and their implications for stock price prediction is crucial for investors seeking to navigate the market successfully. Media coverage and public perception also play a vital role in shaping stock price fluctuations, as positive or negative news stories can influence investor sentiment and trading behavior. By staying updated on the latest news and events affecting Tesla's stock price, investors can anticipate market reactions and adjust their investment strategies accordingly.\n",
      "\n",
      "## Conclusion\n",
      "\n",
      "In conclusion, predicting Tesla's stock price requires a comprehensive analysis of the latest trends, key players, and noteworthy news events shaping the market environment. By incorporating insights from reputable sources and leveraging stock price prediction strategies, investors can make informed decisions and enhance their investment outcomes. It is essential to stay informed, conduct thorough research, and seek expert advice to navigate the complexities of the stock market successfully. As we continue to monitor Tesla's stock price movement and analyze market dynamics, let us remember the importance of making informed decisions and staying ahead of the curve in predicting the future of Tesla stock.\n",
      "\n",
      "Remember, the future is uncertain, and stock price prediction is not an exact science. However, by considering all available information and adopting a proactive approach to investment, investors can position themselves for success in the ever-evolving stock market landscape.\n",
      "\n",
      "---\n",
      "\n",
      "### Resources:\n",
      "1. [Bloomberg Tesla Stock Analysis](https://www.bloomberg.com/quote/TSLA:US)\n",
      "2. [CNBC Tesla Stock Forecast](https://www.cnbc.com/tesla/)\n",
      "3. [Forbes Elon Musk Impact on Tesla Stock](https://www.forbes.com/elon-musk-tesla-stock/)\n",
      "4. [Yahoo Finance Tesla Stock News](https://finance.yahoo.com/quote/TSLA)\n",
      "5. [Investopedia Stock Price Prediction Strategies](https://www.investopedia.com/)\n",
      "\n",
      "\u001b[00m\n",
      "\u001b[1m\u001b[95m [DEBUG]: == Working Agent: Editor\u001b[00m\n",
      "\u001b[1m\u001b[95m [INFO]: == Starting Task: Proofread the given blog post for grammatical errors and alignment with the brand's voice.\u001b[00m\n",
      "\n",
      "\n",
      "\u001b[1m> Entering new CrewAgentExecutor chain...\u001b[0m\n"
     ]
    },
    {
     "name": "stdout",
     "output_type": "stream",
     "text": [
      "\u001b[32;1m\u001b[1;3mI now can give a great answer\n",
      "\n",
      "Final Answer:\n",
      "\n",
      "# Predicting the Future: An In-depth Analysis of Tesla Stock Price\n",
      "\n",
      "Tesla, a company founded by the visionary Elon Musk, has transformed the automotive industry and beyond with its cutting-edge electric vehicles and sustainable energy solutions. The company's remarkable success and its impact on the stock market have attracted widespread attention from investors and analysts alike. Predicting Tesla's stock price is a critical aspect of making informed investment decisions and maximizing returns in a highly volatile market. In this blog post, we aim to explore the realm of Tesla stock price prediction by examining trends, key players, and significant news events to offer valuable insights for individual investors, financial professionals, and enthusiasts of the stock market.\n",
      "\n",
      "Recent movements in Tesla's stock price have been a focal point for many market participants. The stock has exhibited notable volatility, influenced by various factors such as production figures, delivery statistics, and the overall market sentiment towards electric vehicle manufacturers. Financial experts and analysts have been meticulously observing these trends, drawing comparisons with industry data and market forecasts to predict the future trajectory of Tesla's stock price. By scrutinizing the latest data and perspectives from credible sources like Bloomberg and CNBC, investors can develop a deeper understanding of the forces driving Tesla's stock price fluctuations.\n",
      "\n",
      "Elon Musk, the enigmatic CEO of Tesla, wields considerable influence over the company's stock price through his public statements, decisions, and actions. Institutional investors and market influencers also hold significant sway over Tesla's stock price, as their trading activities can impact market sentiment and drive price movements. Grasping the dynamics of these key players and their interactions within the stock market is crucial for accurately forecasting Tesla's stock price. By examining insights from reputable sources such as Forbes and staying abreast of financial news, investors can remain informed about the latest developments and make well-grounded choices regarding their Tesla stock investments.\u001b[0m\n",
      "\n",
      "\u001b[1m> Finished chain.\u001b[0m\n",
      "\u001b[1m\u001b[92m [DEBUG]: == [Editor] Task output: # Predicting the Future: An In-depth Analysis of Tesla Stock Price\n",
      "\n",
      "Tesla, a company founded by the visionary Elon Musk, has transformed the automotive industry and beyond with its cutting-edge electric vehicles and sustainable energy solutions. The company's remarkable success and its impact on the stock market have attracted widespread attention from investors and analysts alike. Predicting Tesla's stock price is a critical aspect of making informed investment decisions and maximizing returns in a highly volatile market. In this blog post, we aim to explore the realm of Tesla stock price prediction by examining trends, key players, and significant news events to offer valuable insights for individual investors, financial professionals, and enthusiasts of the stock market.\n",
      "\n",
      "Recent movements in Tesla's stock price have been a focal point for many market participants. The stock has exhibited notable volatility, influenced by various factors such as production figures, delivery statistics, and the overall market sentiment towards electric vehicle manufacturers. Financial experts and analysts have been meticulously observing these trends, drawing comparisons with industry data and market forecasts to predict the future trajectory of Tesla's stock price. By scrutinizing the latest data and perspectives from credible sources like Bloomberg and CNBC, investors can develop a deeper understanding of the forces driving Tesla's stock price fluctuations.\n",
      "\n",
      "Elon Musk, the enigmatic CEO of Tesla, wields considerable influence over the company's stock price through his public statements, decisions, and actions. Institutional investors and market influencers also hold significant sway over Tesla's stock price, as their trading activities can impact market sentiment and drive price movements. Grasping the dynamics of these key players and their interactions within the stock market is crucial for accurately forecasting Tesla's stock price. By examining insights from reputable sources such as Forbes and staying abreast of financial news, investors can remain informed about the latest developments and make well-grounded choices regarding their Tesla stock investments.\n",
      "\n",
      "\u001b[00m\n"
     ]
    }
   ],
   "source": [
    "topic = \"Tesla stock price prediction\"\n",
    "result = crew.kickoff(inputs={\"topic\": topic})"
   ]
  },
  {
   "cell_type": "code",
   "execution_count": 14,
   "metadata": {
    "height": 30
   },
   "outputs": [
    {
     "data": {
      "text/markdown": [
       "# Predicting the Future: An In-depth Analysis of Tesla Stock Price\n",
       "\n",
       "Tesla, a company founded by the visionary Elon Musk, has transformed the automotive industry and beyond with its cutting-edge electric vehicles and sustainable energy solutions. The company's remarkable success and its impact on the stock market have attracted widespread attention from investors and analysts alike. Predicting Tesla's stock price is a critical aspect of making informed investment decisions and maximizing returns in a highly volatile market. In this blog post, we aim to explore the realm of Tesla stock price prediction by examining trends, key players, and significant news events to offer valuable insights for individual investors, financial professionals, and enthusiasts of the stock market.\n",
       "\n",
       "Recent movements in Tesla's stock price have been a focal point for many market participants. The stock has exhibited notable volatility, influenced by various factors such as production figures, delivery statistics, and the overall market sentiment towards electric vehicle manufacturers. Financial experts and analysts have been meticulously observing these trends, drawing comparisons with industry data and market forecasts to predict the future trajectory of Tesla's stock price. By scrutinizing the latest data and perspectives from credible sources like Bloomberg and CNBC, investors can develop a deeper understanding of the forces driving Tesla's stock price fluctuations.\n",
       "\n",
       "Elon Musk, the enigmatic CEO of Tesla, wields considerable influence over the company's stock price through his public statements, decisions, and actions. Institutional investors and market influencers also hold significant sway over Tesla's stock price, as their trading activities can impact market sentiment and drive price movements. Grasping the dynamics of these key players and their interactions within the stock market is crucial for accurately forecasting Tesla's stock price. By examining insights from reputable sources such as Forbes and staying abreast of financial news, investors can remain informed about the latest developments and make well-grounded choices regarding their Tesla stock investments."
      ],
      "text/plain": [
       "<IPython.core.display.Markdown object>"
      ]
     },
     "execution_count": 14,
     "metadata": {},
     "output_type": "execute_result"
    }
   ],
   "source": [
    "Markdown(result)"
   ]
  },
  {
   "cell_type": "markdown",
   "metadata": {},
   "source": [
    "<a name='1'></a>\n",
    " ## Other Popular Models as LLM for your Agents"
   ]
  },
  {
   "cell_type": "markdown",
   "metadata": {},
   "source": [
    "#### Hugging Face (HuggingFaceHub endpoint)\n",
    "\n",
    "```Python\n",
    "from langchain_community.llms import HuggingFaceHub\n",
    "\n",
    "llm = HuggingFaceHub(\n",
    "    repo_id=\"HuggingFaceH4/zephyr-7b-beta\",\n",
    "    huggingfacehub_api_token=\"<HF_TOKEN_HERE>\",\n",
    "    task=\"text-generation\",\n",
    ")\n",
    "\n",
    "### you will pass \"llm\" to your agent function\n",
    "```"
   ]
  },
  {
   "cell_type": "markdown",
   "metadata": {},
   "source": [
    "#### Mistral API\n",
    "\n",
    "```Python\n",
    "OPENAI_API_KEY=your-mistral-api-key\n",
    "OPENAI_API_BASE=https://api.mistral.ai/v1\n",
    "OPENAI_MODEL_NAME=\"mistral-small\"\n",
    "```"
   ]
  },
  {
   "cell_type": "markdown",
   "metadata": {},
   "source": [
    "#### Cohere\n",
    "\n",
    "```Python\n",
    "from langchain_community.chat_models import ChatCohere\n",
    "# Initialize language model\n",
    "os.environ[\"COHERE_API_KEY\"] = \"your-cohere-api-key\"\n",
    "llm = ChatCohere()\n",
    "\n",
    "### you will pass \"llm\" to your agent function\n",
    "```"
   ]
  },
  {
   "cell_type": "markdown",
   "metadata": {},
   "source": [
    "### For using Llama locally with Ollama and more, checkout the crewAI documentation on [Connecting to any LLM](https://docs.crewai.com/how-to/LLM-Connections/)."
   ]
  },
  {
   "cell_type": "code",
   "execution_count": null,
   "metadata": {
    "height": 30
   },
   "outputs": [],
   "source": []
  },
  {
   "cell_type": "code",
   "execution_count": null,
   "metadata": {
    "height": 30
   },
   "outputs": [],
   "source": []
  },
  {
   "cell_type": "code",
   "execution_count": null,
   "metadata": {
    "height": 30
   },
   "outputs": [],
   "source": []
  }
 ],
 "metadata": {
  "colab": {
   "gpuType": "T4",
   "provenance": []
  },
  "kernelspec": {
   "display_name": "Python 3 (ipykernel)",
   "language": "python",
   "name": "python3"
  },
  "language_info": {
   "codemirror_mode": {
    "name": "ipython",
    "version": 3
   },
   "file_extension": ".py",
   "mimetype": "text/x-python",
   "name": "python",
   "nbconvert_exporter": "python",
   "pygments_lexer": "ipython3",
   "version": "3.11.9"
  }
 },
 "nbformat": 4,
 "nbformat_minor": 4
}
